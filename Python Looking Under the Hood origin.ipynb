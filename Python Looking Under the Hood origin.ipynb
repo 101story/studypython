{
 "cells": [
  {
   "cell_type": "markdown",
   "metadata": {},
   "source": [
    "today's topic is related to python. since i don't read any paper so i couldn't help but choose this. \n",
    "\n",
    "it's totally my pure curiosity as learning new computer languge. \n",
    "\n",
    "It might not help to you guys and i'm sure you don't need to know during developing \n",
    "\n",
    "i would like to start by explaining why i choose this topic.\n",
    "\n",
    "first, i wanna mention our study with fluent python book since this topic started from that. "
   ]
  },
  {
   "cell_type": "markdown",
   "metadata": {},
   "source": [
    "fluent python\n",
    "2019년 9월 ~ 2020년 1월 (one day a week, totally 5 months or about 20 days) \n",
    "the book has 21 chapter with 600 pages (without appendix and table) totally 766\n",
    "\n",
    "schedule table devied by pages (always flexable and put many days off)\n",
    "\n",
    "https://docs.google.com/spreadsheets/d/1y-K7Jj2iSz_Vje894wbIDdy3Q3DwsYYuJPZJpjqOWCw/edit#gid=0\n",
    "\n",
    "if available, we shared our thought on a fixed day almost every week. \n",
    "\n",
    "the first chapter is Data Model. the curiousity was started by that time.\n",
    "\n",
    "but i couldn't get what data model is. and i found the metadata concept. \n",
    "\n",
    "and i kept some blogs looked helping to undersand it and i decided to read them if i got bored while free time."
   ]
  },
  {
   "cell_type": "markdown",
   "metadata": {},
   "source": [
    "# Part1 Prologue\n",
    "## CH1.The Python Data Model\n",
    "\n",
    "* 데이터 모델 : 일종의 프레임워크, 언어 자체의 구성단위에 대한 인터페이스를 공식적으로 정의한다. \n",
    "\n",
    "\n",
    "* Difference between __str__ and __repr__?\n",
    "\n",
    "https://stackoverflow.com/questions/1436703/difference-between-str-and-repr\n",
    "\n",
    "* Data Model reference \n",
    "\n",
    "https://docs.python.org/3/reference/datamodel.html\n",
    "\n",
    "\n",
    "* python data model 이해하기\n",
    "\n",
    "https://www.slideshare.net/dahlmoon/numpy-20160330\n",
    "\n",
    "* 파이썬의 메타클래스란 무엇인가?\n",
    "\n",
    "https://code.tutsplus.com/ko/tutorials/quick-tip-what-is-a-metaclass-in-python--cms-26016\n",
    "\n",
    "https://blog.ionelmc.ro/2015/02/09/understanding-python-metaclasses/\n",
    "\n",
    "* why python is slow\n",
    "\n",
    "http://jakevdp.github.io/blog/2014/05/09/why-python-is-slow/\n",
    "\n"
   ]
  },
  {
   "cell_type": "markdown",
   "metadata": {},
   "source": [
    "but i didn't have the tiem to read them even during seolnal too. \n",
    "finally i started to read it last week after.\n",
    "\n",
    "and i would like to share what i read "
   ]
  },
  {
   "cell_type": "markdown",
   "metadata": {},
   "source": [
    "# Why Python is Slow: Looking Under the Hood\n",
    "\n",
    "http://jakevdp.github.io/blog/2014/05/09/why-python-is-slow/"
   ]
  },
  {
   "cell_type": "markdown",
   "metadata": {},
   "source": [
    "he wrote this blog used cpython (default interpreter) to understand python code in the memory.\n",
    "\n",
    "### what is cpython \n",
    "\n",
    "https://stackoverflow.com/questions/17130975/python-vs-cpython\n",
    "\n",
    "CPython happens to be implemented in C. That is just an implementation detail, really. CPython compiles your Python code into bytecode (transparently) and interprets that bytecode in a evaluation loop. So CPython does not translate your Python code to C by itself. \n",
    "\n",
    "Separately we have **a programming language implementation** which in most cases, is the actual interpreter or compiler.\n",
    "\n",
    "1. **Python**: It is a language, it only states/describes how to convey/express yourself to the interpreter (the program which accepts your python code).\n",
    "2. **Implementation**: It is all about how the interpreter was written, specifically, in what language and what it ends up doing.\n",
    "3. **Bytecode**: It is the code that is processed by a program, usually referred to as a virtual machine, rather than by the \"real\" computer machine, the hardware processor."
   ]
  },
  {
   "cell_type": "markdown",
   "metadata": {},
   "source": [
    "<img src=https://i.imgur.com/PJME67T.png>\n",
    "\n",
    "source : https://indianpythonista.wordpress.com/2018/01/04/how-python-runs/"
   ]
  },
  {
   "cell_type": "code",
   "execution_count": 27,
   "metadata": {},
   "outputs": [
    {
     "name": "stdout",
     "output_type": "stream",
     "text": [
      "  1           0 LOAD_NAME                0 (s)\n",
      "              2 LOAD_NAME                1 (a)\n",
      "              4 DUP_TOP_TWO\n",
      "              6 BINARY_SUBSCR\n",
      "              8 LOAD_NAME                2 (b)\n",
      "             10 INPLACE_ADD\n",
      "             12 ROT_THREE\n",
      "             14 STORE_SUBSCR\n",
      "             16 LOAD_CONST               0 (None)\n",
      "             18 RETURN_VALUE\n"
     ]
    }
   ],
   "source": [
    "import dis\n",
    "dis.dis('s[a] += b')"
   ]
  },
  {
   "cell_type": "markdown",
   "metadata": {},
   "source": [
    "1. s[a] 값을 스택의 꼭대기(TOS)에 놓음\n",
    "2. TOS += b 연산수행\n",
    "3. TOS 를 s[a] 에 할당"
   ]
  },
  {
   "cell_type": "code",
   "execution_count": null,
   "metadata": {},
   "outputs": [],
   "source": []
  },
  {
   "cell_type": "markdown",
   "metadata": {},
   "source": [
    "# Why Python is Slow\n",
    "\n",
    "## reason 1. Python is Dynamically Typed rather than Statically Typed\n",
    "\n",
    "http://jakevdp.github.io/blog/2014/05/09/why-python-is-slow/#1.-Python-is-Dynamically-Typed-rather-than-Statically-Typed."
   ]
  },
  {
   "cell_type": "markdown",
   "metadata": {},
   "source": [
    "```c\n",
    "/* C code */\n",
    "int a = 1;\n",
    "int b = 2;\n",
    "int c = a + b;\n",
    "```\n",
    "\n",
    "```python\n",
    "# python code\n",
    "a = 1\n",
    "b = 2\n",
    "c = a + b\n",
    "```"
   ]
  },
  {
   "cell_type": "markdown",
   "metadata": {},
   "source": [
    "The difference between a C variable (I'm using C as a stand-in for compiled languages) and a Python variable is summarized by this diagram\n",
    "\n",
    "c code is already defined the type. that mean complier can know how much memory sould be assign \n",
    "\n",
    "1. Assign <int> 1 to a\n",
    "2. Assign <int> 2 to b\n",
    "3. call binary_add<int, int>(a, b)\n",
    "4. Assign the result to c\n",
    "    \n",
    "    \n",
    "here the interpreter knows only that 1 and 2 are objects, the interpreter must inspect what type it is. \n",
    "\n",
    "Python Addition\n",
    "\n",
    "1. Assign 1 to a\n",
    "\n",
    "1a. Set a->PyObject_HEAD->typecode to integer<br>\n",
    "1b. Set a->val = 1\n",
    "\n",
    "2. Assign 2 to b\n",
    "\n",
    "2a. Set b->PyObject_HEAD->typecode to integer<br>\n",
    "2b. Set b->val = 2\n",
    "\n",
    "3. call binary_add(a, b)\n",
    "\n",
    "3a. find typecode in a->PyObject_HEAD <br>\n",
    "3b. a is an integer; value is a->val<br>\n",
    "3c. find typecode in b->PyObject_HEAD<br>\n",
    "3d. b is an integer; value is b->val<br>\n",
    "3e. call binary_add<int, int>(a->val, b->val)<br>\n",
    "3f. result of this is result, and is an integer.\n",
    "\n",
    "4. Create a Python object c\n",
    "\n",
    "4a. set c->PyObject_HEAD->typecode to integer\n",
    "4b. set c->val to result\n",
    "    "
   ]
  },
  {
   "cell_type": "markdown",
   "metadata": {},
   "source": [
    "## reason 2. Python is interpreted rather than compiled."
   ]
  },
  {
   "cell_type": "markdown",
   "metadata": {},
   "source": [
    "## reason 3. Python's object model can lead to inefficient memory access"
   ]
  },
  {
   "cell_type": "markdown",
   "metadata": {},
   "source": [
    "<img src=http://jakevdp.github.io/images/array_vs_list.png />"
   ]
  },
  {
   "cell_type": "markdown",
   "metadata": {},
   "source": [
    "Python you might use the standard List object \n",
    "\n",
    "A NumPy array in its simplest form is a Python object build around a C array. \n",
    "\n",
    "That is, it has a pointer to a contiguous data buffer of values. \n",
    "\n",
    "A Python list, on the other hand, has a pointer to a contiguous buffer of pointers, each of which points to a Python object which in turn has references to its data (in this case, integers). \n",
    "\n",
    "hacking around on the internals of the Python language, and found that the process itself is pretty enlightening."
   ]
  },
  {
   "cell_type": "markdown",
   "metadata": {},
   "source": [
    "## Digging into Python Integers\n"
   ]
  },
  {
   "cell_type": "code",
   "execution_count": 1,
   "metadata": {
    "scrolled": false
   },
   "outputs": [
    {
     "name": "stdout",
     "output_type": "stream",
     "text": [
      "3.6.8\n"
     ]
    }
   ],
   "source": [
    "import sys\n",
    "print(sys.version[:5])"
   ]
  },
  {
   "cell_type": "code",
   "execution_count": 2,
   "metadata": {},
   "outputs": [
    {
     "data": {
      "text/plain": [
       "42"
      ]
     },
     "execution_count": 2,
     "metadata": {},
     "output_type": "execute_result"
    }
   ],
   "source": [
    "x = 42\n",
    "x"
   ]
  },
  {
   "cell_type": "markdown",
   "metadata": {},
   "source": [
    "we'll use Python's built-in ctypes module to introspect Python's integer type from the Python interpreter itself. \n",
    "\n",
    "our integer object works out to something like the following structure:"
   ]
  },
  {
   "cell_type": "code",
   "execution_count": 3,
   "metadata": {},
   "outputs": [],
   "source": [
    "import ctypes"
   ]
  },
  {
   "cell_type": "markdown",
   "metadata": {},
   "source": [
    " \n",
    "https://hg.python.org/cpython/file/3.4/Include/object.h#l105"
   ]
  },
  {
   "cell_type": "markdown",
   "metadata": {},
   "source": [
    "```c\n",
    "struct _longobject{\n",
    "    long ob_refcnt;\n",
    "    PyTypeObject *ob_type;\n",
    "    size_t ob_size;\n",
    "    long ob_digit[1];\n",
    "};```"
   ]
  },
  {
   "cell_type": "markdown",
   "metadata": {},
   "source": [
    "ob_refcnt변수는 개체의 참조 수, \n",
    "ob_type변수는 개체의 모든 형식 및 메서드의 정의가 들어있는 구조체에 대한 포인터, \n",
    "그리고 ob_digit변수는 실제 수치를 가지고 있습니다.\n",
    "\n",
    "The ob_refcnt variable is the reference count for the object, the ob_type variable is a pointer to the structure containing all the type information and method definitions for the object, and the ob_digit holds the actual numerical value.\n",
    "\n",
    "intStructu 를 선언하고 42 (integer 객체) 를 생성하면 해당 field 정보가 순서에 맞게 매칭된다. "
   ]
  },
  {
   "cell_type": "code",
   "execution_count": 4,
   "metadata": {},
   "outputs": [],
   "source": [
    "class IntStruct(ctypes.Structure):\n",
    "    _fields_ = [(\"ob_type\", ctypes.c_void_p),\n",
    "                (\"ob_ref\", ctypes.c_long),\n",
    "                (\"ob_size\", ctypes.c_ulong),\n",
    "                (\"ob_digit\", ctypes.c_long),\n",
    "               ]\n",
    "    \n",
    "    def __repr__(self):\n",
    "        return (\"IntStruct(ob_digit={self.ob_digit}, refcount={self.ob_ref})\").format(self=self)"
   ]
  },
  {
   "cell_type": "code",
   "execution_count": 5,
   "metadata": {
    "scrolled": true
   },
   "outputs": [
    {
     "data": {
      "text/plain": [
       "IntStruct(ob_digit=42, refcount=10277248)"
      ]
     },
     "execution_count": 5,
     "metadata": {},
     "output_type": "execute_result"
    }
   ],
   "source": [
    "num = 42\n",
    "IntStruct.from_address(id(42))"
   ]
  },
  {
   "cell_type": "code",
   "execution_count": 6,
   "metadata": {},
   "outputs": [],
   "source": [
    "class IntStruct(ctypes.Structure):\n",
    "    _fields_ = [(\"ob_ref\", ctypes.c_long),\n",
    "                (\"ob_type\", ctypes.c_void_p),\n",
    "                (\"ob_size\", ctypes.c_ulong),\n",
    "                (\"ob_digit\", ctypes.c_long),\n",
    "               ]\n",
    "    \n",
    "    def __repr__(self):\n",
    "        return (\"IntStruct(ob_digit={self.ob_digit}, refcount={self.ob_ref})\").format(self=self)"
   ]
  },
  {
   "cell_type": "code",
   "execution_count": 7,
   "metadata": {
    "scrolled": true
   },
   "outputs": [
    {
     "data": {
      "text/plain": [
       "IntStruct(ob_digit=42, refcount=33)"
      ]
     },
     "execution_count": 7,
     "metadata": {},
     "output_type": "execute_result"
    }
   ],
   "source": [
    "num = 42\n",
    "IntStruct.from_address(id(42))"
   ]
  },
  {
   "cell_type": "code",
   "execution_count": 11,
   "metadata": {
    "scrolled": true
   },
   "outputs": [
    {
     "data": {
      "text/plain": [
       "10915808"
      ]
     },
     "execution_count": 11,
     "metadata": {},
     "output_type": "execute_result"
    }
   ],
   "source": [
    "id(42)"
   ]
  },
  {
   "cell_type": "markdown",
   "metadata": {},
   "source": [
    "https://docs.python.org/2/library/ctypes.html#ctypes._CData.from_address\n",
    "\n",
    "**from_address(address)**\n",
    "> This method returns a ctypes type instance using the memory specified by address which must be an integer."
   ]
  },
  {
   "cell_type": "markdown",
   "metadata": {},
   "source": [
    "Python implements common integer values as singletons: that is, only one copy of these numbers exist in memory. "
   ]
  },
  {
   "cell_type": "code",
   "execution_count": 43,
   "metadata": {},
   "outputs": [
    {
     "data": {
      "text/plain": [
       "(10277248, 1, 42)"
      ]
     },
     "execution_count": 43,
     "metadata": {},
     "output_type": "execute_result"
    }
   ],
   "source": [
    "Istruct = IntStruct.from_address(id(42))\n",
    "Istruct.ob_type, Istruct.ob_size, Istruct.ob_digit"
   ]
  },
  {
   "cell_type": "code",
   "execution_count": 39,
   "metadata": {},
   "outputs": [
    {
     "data": {
      "text/plain": [
       "__main__.IntStruct"
      ]
     },
     "execution_count": 39,
     "metadata": {},
     "output_type": "execute_result"
    }
   ],
   "source": [
    "type(Istruct)"
   ]
  },
  {
   "cell_type": "code",
   "execution_count": 9,
   "metadata": {},
   "outputs": [
    {
     "data": {
      "text/plain": [
       "256"
      ]
     },
     "execution_count": 9,
     "metadata": {},
     "output_type": "execute_result"
    }
   ],
   "source": [
    "256"
   ]
  },
  {
   "cell_type": "code",
   "execution_count": 8,
   "metadata": {},
   "outputs": [
    {
     "data": {
      "text/plain": [
       "Text(0, 0.5, 'reference count')"
      ]
     },
     "execution_count": 8,
     "metadata": {},
     "output_type": "execute_result"
    },
    {
     "data": {
      "image/png": "[encoded data removed]",
      "text/plain": [
       "<Figure size 432x288 with 1 Axes>"
      ]
     },
     "metadata": {
      "needs_background": "light"
     },
     "output_type": "display_data"
    }
   ],
   "source": [
    "%matplotlib inline\n",
    "import matplotlib.pyplot as plt\n",
    "import sys\n",
    "plt.loglog(range(1000), [sys.getrefcount(i) for i in range(1000)])\n",
    "plt.xlabel('integer value')\n",
    "plt.ylabel('reference count')"
   ]
  },
  {
   "cell_type": "markdown",
   "metadata": {},
   "source": [
    "## Digging into Python Lists"
   ]
  },
  {
   "cell_type": "markdown",
   "metadata": {},
   "source": [
    "Let's apply the above ideas to a more complicated type: Python lists. \n",
    "\n",
    "Analogously to integers, we find the definition of the list object itself in [Include/listobject.h](https://hg.python.org/cpython/file/3.4/Include/listobject.h#l23)"
   ]
  },
  {
   "cell_type": "markdown",
   "metadata": {},
   "source": [
    "```c\n",
    "typedef struct{\n",
    "    long ob_refcnt;\n",
    "    PyTypeObject *ob_type;\n",
    "    Pyssize_t ob_size;\n",
    "    PyObject **ob_item;\n",
    "    long allocated;    \n",
    "}PyListObject;\n",
    "```"
   ]
  },
  {
   "cell_type": "code",
   "execution_count": 11,
   "metadata": {},
   "outputs": [],
   "source": [
    "class ListStruct(ctypes.Structure):\n",
    "    _fields_ = [(\"ob_refcnt\", ctypes.c_long),\n",
    "                (\"ob_type\", ctypes.c_void_p),\n",
    "                (\"ob_size\", ctypes.c_ulong), \n",
    "                (\"ob_item\", ctypes.c_long),# pyObject** pointer cast to long\n",
    "                (\"ob_digit\", ctypes.c_long),\n",
    "               ]\n",
    "    \n",
    "    def __repr__(self):\n",
    "        return (\"ListStruct(len={self.ob_size}, refcount={self.ob_refcnt})\").format(self=self)"
   ]
  },
  {
   "cell_type": "markdown",
   "metadata": {},
   "source": [
    "PyObject \\*\\*ob_item은 리스트의 내용물을 가르키고, ob_size값은 리스트안에 얼마나 많은 아이템들이 있는지 말해줍니다.\n",
    "\n",
    "Here the PyObject \\*\\*ob_item is what points to the contents of the list, and the ob_size value tells us how many items are in the list."
   ]
  },
  {
   "cell_type": "code",
   "execution_count": 13,
   "metadata": {},
   "outputs": [
    {
     "data": {
      "text/plain": [
       "ListStruct(len=5, refcount=1)"
      ]
     },
     "execution_count": 13,
     "metadata": {},
     "output_type": "execute_result"
    }
   ],
   "source": [
    "L = [1,2,3,4,5]\n",
    "ListStruct.from_address(id(L))"
   ]
  },
  {
   "cell_type": "code",
   "execution_count": 18,
   "metadata": {},
   "outputs": [
    {
     "data": {
      "text/plain": [
       "ListStruct(len=5, refcount=3)"
      ]
     },
     "execution_count": 18,
     "metadata": {},
     "output_type": "execute_result"
    }
   ],
   "source": [
    "tup = [L, L]\n",
    "ListStruct.from_address(id(L))"
   ]
  },
  {
   "cell_type": "markdown",
   "metadata": {},
   "source": [
    " let's see about finding the actual elements within the list."
   ]
  },
  {
   "cell_type": "code",
   "execution_count": 19,
   "metadata": {},
   "outputs": [],
   "source": [
    "del L[4]"
   ]
  },
  {
   "cell_type": "code",
   "execution_count": 20,
   "metadata": {},
   "outputs": [
    {
     "data": {
      "text/plain": [
       "[1, 2, 3, 4]"
      ]
     },
     "execution_count": 20,
     "metadata": {},
     "output_type": "execute_result"
    }
   ],
   "source": [
    "L"
   ]
  },
  {
   "cell_type": "code",
   "execution_count": 46,
   "metadata": {},
   "outputs": [
    {
     "data": {
      "text/plain": [
       "(4, 140053468754968, 5)"
      ]
     },
     "execution_count": 46,
     "metadata": {},
     "output_type": "execute_result"
    }
   ],
   "source": [
    "listStruct = ListStruct.from_address(id(L))\n",
    "listStruct.ob_size, listStruct.ob_item, listStruct.ob_digit"
   ]
  },
  {
   "cell_type": "code",
   "execution_count": 47,
   "metadata": {},
   "outputs": [
    {
     "data": {
      "text/plain": [
       "[1, 2, 3, 4]"
      ]
     },
     "execution_count": 47,
     "metadata": {},
     "output_type": "execute_result"
    }
   ],
   "source": [
    "tup[1]"
   ]
  },
  {
   "cell_type": "code",
   "execution_count": 48,
   "metadata": {},
   "outputs": [
    {
     "data": {
      "text/plain": [
       "140053469547208"
      ]
     },
     "execution_count": 48,
     "metadata": {},
     "output_type": "execute_result"
    }
   ],
   "source": [
    "id(L)"
   ]
  },
  {
   "cell_type": "markdown",
   "metadata": {},
   "source": [
    "As we saw above, the elements are stored via a contiguous array of PyObject pointers. Using ctypes, we can actually create a compound structure consisting of our IntStruct objects from before:"
   ]
  },
  {
   "cell_type": "code",
   "execution_count": 14,
   "metadata": {},
   "outputs": [],
   "source": [
    "# get a raw pointer to our list\n",
    "Lstruct = ListStruct.from_address(id(L))\n",
    "\n",
    "# create a type which is an array of integer pointers the same length as L\n",
    "PtrArray = Lstruct.ob_size * ctypes.POINTER(IntStruct)\n",
    "\n",
    "# instantiate this type using the ob_item pointer\n",
    "L_values = PtrArray.from_address(Lstruct.ob_item)"
   ]
  },
  {
   "cell_type": "code",
   "execution_count": 15,
   "metadata": {},
   "outputs": [
    {
     "data": {
      "text/plain": [
       "[IntStruct(ob_digit=1, refcount=7621),\n",
       " IntStruct(ob_digit=2, refcount=3430),\n",
       " IntStruct(ob_digit=3, refcount=1322),\n",
       " IntStruct(ob_digit=4, refcount=880),\n",
       " IntStruct(ob_digit=5, refcount=1000)]"
      ]
     },
     "execution_count": 15,
     "metadata": {},
     "output_type": "execute_result"
    }
   ],
   "source": [
    "[ptr[0] for ptr in L_values]  # ptr[0] dereferences the pointer"
   ]
  },
  {
   "cell_type": "markdown",
   "metadata": {},
   "source": [
    "## Numpy List"
   ]
  },
  {
   "cell_type": "markdown",
   "metadata": {},
   "source": [
    "https://github.com/numpy/numpy/blob/maintenance/1.8.x/numpy/core/include/numpy/ndarraytypes.h#L646"
   ]
  },
  {
   "cell_type": "code",
   "execution_count": 16,
   "metadata": {
    "scrolled": true
   },
   "outputs": [
    {
     "data": {
      "text/plain": [
       "'1.17.4'"
      ]
     },
     "execution_count": 16,
     "metadata": {},
     "output_type": "execute_result"
    }
   ],
   "source": [
    "import numpy as np\n",
    "np.__version__"
   ]
  },
  {
   "cell_type": "markdown",
   "metadata": {},
   "source": [
    "Let's start by creating a structure that represents the numpy array itself. "
   ]
  },
  {
   "cell_type": "code",
   "execution_count": 18,
   "metadata": {},
   "outputs": [],
   "source": [
    "class NumpyStruct(ctypes.Structure):\n",
    "    _fields_ = [(\"ob_refcnt\", ctypes.c_long),\n",
    "                (\"ob_type\", ctypes.c_void_p),\n",
    "                (\"ob_data\", ctypes.c_long), # char* pointer cas to long\n",
    "                (\"ob_ndim\", ctypes.c_int),\n",
    "                (\"ob_shape\", ctypes.c_voidp),\n",
    "                (\"ob_strides\", ctypes.c_voidp),\n",
    "               ]\n",
    "    @property\n",
    "    def shape(self):\n",
    "        return tuple((self.ob_ndim*ctypes.c_int64).from_address(self.ob_shape))\n",
    "    \n",
    "    @property\n",
    "    def strides(self):\n",
    "        return tuple((self.ob_ndim*ctypes.c_int64).from_address(self.ob_strides))\n",
    "    \n",
    "    \n",
    "    def __repr__(self):\n",
    "        return (\"NumpyStruct(shape={self.shape}, refcount={self.ob_refcnt})\").format(self=self)"
   ]
  },
  {
   "cell_type": "code",
   "execution_count": 19,
   "metadata": {},
   "outputs": [
    {
     "data": {
      "text/plain": [
       "ctypes.c_long"
      ]
     },
     "execution_count": 19,
     "metadata": {},
     "output_type": "execute_result"
    }
   ],
   "source": [
    "ctypes.c_int64"
   ]
  },
  {
   "cell_type": "code",
   "execution_count": 20,
   "metadata": {},
   "outputs": [
    {
     "data": {
      "text/plain": [
       "ctypes.c_int"
      ]
     },
     "execution_count": 20,
     "metadata": {},
     "output_type": "execute_result"
    }
   ],
   "source": [
    "ctypes.c_int"
   ]
  },
  {
   "cell_type": "code",
   "execution_count": 21,
   "metadata": {},
   "outputs": [
    {
     "data": {
      "text/plain": [
       "NumpyStruct(shape=(10, 20), refcount=1)"
      ]
     },
     "execution_count": 21,
     "metadata": {},
     "output_type": "execute_result"
    }
   ],
   "source": [
    "x = np.random.random((10, 20))\n",
    "xstruct = NumpyStruct.from_address(id(x))\n",
    "xstruct"
   ]
  },
  {
   "cell_type": "code",
   "execution_count": 22,
   "metadata": {},
   "outputs": [
    {
     "data": {
      "text/plain": [
       "NumpyStruct(shape=(10, 20), refcount=4)"
      ]
     },
     "execution_count": 22,
     "metadata": {},
     "output_type": "execute_result"
    }
   ],
   "source": [
    "L = [x,x,x]  # add three more references to x\n",
    "xstruct"
   ]
  },
  {
   "cell_type": "markdown",
   "metadata": {},
   "source": [
    "We see that we've pulled out the correct shape information. Let's make sure the reference count is correct:\n",
    "    \n",
    "For simplicity we'll ignore the strides and assume it's a C-contiguous array;    \n",
    "\n",
    "The data variable is now a view of the contiguous block of memory defined in the NumPy array! To show this, we'll change a value in the array..."
   ]
  },
  {
   "cell_type": "code",
   "execution_count": 23,
   "metadata": {},
   "outputs": [
    {
     "data": {
      "text/plain": [
       "[0, 1, 2, 3, 4, 5, 6, 7, 8, 9]"
      ]
     },
     "execution_count": 23,
     "metadata": {},
     "output_type": "execute_result"
    }
   ],
   "source": [
    "x = np.arange(10)\n",
    "xstruct = NumpyStruct.from_address(id(x))\n",
    "size = np.prod(xstruct.shape)\n",
    "\n",
    "# assume an array of integers\n",
    "arraytype = size * ctypes.c_long\n",
    "data = arraytype.from_address(xstruct.ob_data)\n",
    "\n",
    "[d for d in data]"
   ]
  },
  {
   "cell_type": "code",
   "execution_count": 24,
   "metadata": {},
   "outputs": [
    {
     "data": {
      "text/plain": [
       "[10914464,\n",
       " 10914496,\n",
       " 10914528,\n",
       " 10914560,\n",
       " 10914592,\n",
       " 10914624,\n",
       " 10914656,\n",
       " 10914688,\n",
       " 10914720,\n",
       " 10914752]"
      ]
     },
     "execution_count": 24,
     "metadata": {},
     "output_type": "execute_result"
    }
   ],
   "source": [
    "[id(d) for d in data]"
   ]
  },
  {
   "cell_type": "code",
   "execution_count": 25,
   "metadata": {},
   "outputs": [
    {
     "data": {
      "text/plain": [
       "10"
      ]
     },
     "execution_count": 25,
     "metadata": {},
     "output_type": "execute_result"
    }
   ],
   "source": [
    "size"
   ]
  },
  {
   "cell_type": "markdown",
   "metadata": {},
   "source": [
    "and then, what is Data model? "
   ]
  },
  {
   "cell_type": "markdown",
   "metadata": {},
   "source": [
    "https://www.slideshare.net/dahlmoon/numpy-20160330\n",
    "    \n",
    "data model 이란 python 이 제공하는 하나의 framwork 로 sqeunce, iteration 등의 객체를 말한다. "
   ]
  },
  {
   "cell_type": "code",
   "execution_count": 26,
   "metadata": {},
   "outputs": [
    {
     "data": {
      "text/plain": [
       "type"
      ]
     },
     "execution_count": 26,
     "metadata": {},
     "output_type": "execute_result"
    }
   ],
   "source": [
    "type(object)"
   ]
  },
  {
   "cell_type": "markdown",
   "metadata": {},
   "source": [
    "VISUALIZE CODE\n",
    "\n",
    "http://www.pythontutor.com/visualize.html\n",
    "\n",
    "http://pythontutor.com/"
   ]
  },
  {
   "cell_type": "markdown",
   "metadata": {},
   "source": [
    "Query on 'object' class & 'type' class in python\n",
    "\n",
    "https://stackoverflow.com/questions/22921093/query-on-object-class-type-class-in-python"
   ]
  },
  {
   "cell_type": "code",
   "execution_count": 2,
   "metadata": {},
   "outputs": [
    {
     "name": "stdout",
     "output_type": "stream",
     "text": [
      "True\n",
      "<class 'type'>\n",
      "True\n"
     ]
    }
   ],
   "source": [
    "print(isinstance(type,object))\n",
    "print(type.__class__)\n",
    "\n",
    "print(isinstance(object,type))"
   ]
  },
  {
   "cell_type": "markdown",
   "metadata": {},
   "source": [
    "type and object are instances of each other"
   ]
  },
  {
   "cell_type": "markdown",
   "metadata": {},
   "source": [
    "<img src=\"https://i.stack.imgur.com/33Zt8.png\">"
   ]
  },
  {
   "cell_type": "code",
   "execution_count": null,
   "metadata": {},
   "outputs": [],
   "source": []
  }
 ],
 "metadata": {
  "kernelspec": {
   "display_name": "Python 3",
   "language": "python",
   "name": "python3"
  },
  "language_info": {
   "codemirror_mode": {
    "name": "ipython",
    "version": 3
   },
   "file_extension": ".py",
   "mimetype": "text/x-python",
   "name": "python",
   "nbconvert_exporter": "python",
   "pygments_lexer": "ipython3",
   "version": "3.6.9"
  }
 },
 "nbformat": 4,
 "nbformat_minor": 2
}
