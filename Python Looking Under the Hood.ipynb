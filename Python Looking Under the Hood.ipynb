{
 "cells": [
  {
   "cell_type": "markdown",
   "metadata": {},
   "source": [
    "# Python Looking Under the Hood \n",
    "**Julie**\n",
    "\n",
    "## Brief Summary of Fluent python Study \n",
    "\n",
    "<img src=\"https://img.ridicdn.net/cover/2409002736/xxlarge\" style=\"width:80px; height:100px;\" align=\"left\"/>\n",
    "\n",
    "\n",
    "      - From Sep. 2019 To Jan 2010 (5 months) \n",
    "      - a day a weekday\n",
    "      - 21 Chapters (almost 600 pages) \n"
   ]
  },
  {
   "cell_type": "markdown",
   "metadata": {},
   "source": [
    "- schedule table \n",
    "\n",
    "<img src=\"fluentpyschedule.png\" style=\"width:400px;\" >\n",
    "\n",
    "\n",
    "- We summarized the study in our each ways.\n"
   ]
  },
  {
   "cell_type": "markdown",
   "metadata": {},
   "source": [
    "### Part1 Prologue\n",
    "#### CH1.The Python Data Model\n",
    "\n",
    "* 데이터 모델 : 일종의 프레임워크, 언어 자체의 구성단위에 대한 인터페이스를 공식적으로 정의한다. \n",
    "\n",
    "\n",
    "* Difference between __str__ and __repr__?\n",
    "\n",
    "https://stackoverflow.com/questions/1436703/difference-between-str-and-repr\n",
    "\n",
    "* Data Model reference \n",
    "\n",
    "https://docs.python.org/3/reference/datamodel.html\n",
    "\n",
    "\n",
    "* python data model 이해하기\n",
    "\n",
    "https://www.slideshare.net/dahlmoon/numpy-20160330\n",
    "\n",
    "* 파이썬의 메타클래스란 무엇인가?\n",
    "\n",
    "https://code.tutsplus.com/ko/tutorials/quick-tip-what-is-a-metaclass-in-python--cms-26016\n",
    "\n",
    "https://blog.ionelmc.ro/2015/02/09/understanding-python-metaclasses/\n",
    "\n",
    "* why python is slow\n",
    "\n",
    "http://jakevdp.github.io/blog/2014/05/09/why-python-is-slow/\n",
    "\n"
   ]
  },
  {
   "cell_type": "markdown",
   "metadata": {},
   "source": [
    "# Why Python is Slow: Looking Under the Hood\n",
    "\n",
    "http://jakevdp.github.io/blog/2014/05/09/why-python-is-slow/"
   ]
  },
  {
   "cell_type": "markdown",
   "metadata": {},
   "source": [
    "### what is cpython\n",
    "https://stackoverflow.com/questions/17130975/python-vs-cpython\n",
    "\n",
    "<img src=https://i.imgur.com/PJME67T.png style=\"width:550px\">\n",
    "\n",
    "source : https://indianpythonista.wordpress.com/2018/01/04/how-python-runs/"
   ]
  },
  {
   "cell_type": "markdown",
   "metadata": {},
   "source": [
    "using `dis` \n",
    "\n",
    "In Python, the dis module allows disassembly of Python code into the individual instructions executed by the Python interpreter (usually cPython) for each line. "
   ]
  },
  {
   "cell_type": "code",
   "execution_count": 3,
   "metadata": {},
   "outputs": [
    {
     "name": "stdout",
     "output_type": "stream",
     "text": [
      "  1           0 LOAD_NAME                0 (s)\n",
      "              2 LOAD_NAME                1 (a)\n",
      "              4 DUP_TOP_TWO\n",
      "              6 BINARY_SUBSCR\n",
      "              8 LOAD_NAME                2 (b)\n",
      "             10 INPLACE_ADD\n",
      "             12 ROT_THREE\n",
      "             14 STORE_SUBSCR\n",
      "             16 LOAD_CONST               0 (None)\n",
      "             18 RETURN_VALUE\n"
     ]
    }
   ],
   "source": [
    "import dis\n",
    "dis.dis('s[a] += b')"
   ]
  },
  {
   "cell_type": "markdown",
   "metadata": {},
   "source": [
    "## Why Python is Slow\n",
    "\n",
    "### reason 1. Python is Dynamically Typed rather than Statically Typed\n",
    "\n",
    "http://jakevdp.github.io/blog/2014/05/09/why-python-is-slow/#1.-Python-is-Dynamically-Typed-rather-than-Statically-Typed."
   ]
  },
  {
   "cell_type": "markdown",
   "metadata": {},
   "source": [
    "```c\n",
    "/* C code */\n",
    "int a = 1;\n",
    "int b = 2;\n",
    "int c = a + b;\n",
    "```\n",
    "\n",
    "```python\n",
    "# python code\n",
    "a = 1\n",
    "b = 2\n",
    "c = a + b\n",
    "```"
   ]
  },
  {
   "cell_type": "markdown",
   "metadata": {},
   "source": [
    "#### C Code \n",
    "\n",
    "1. Assign <int> 1 to a\n",
    "2. Assign <int> 2 to b\n",
    "3. call binary_add<int, int>(a, b)\n",
    "4. Assign the result to c\n",
    "    \n",
    "#### Python Code    \n",
    "    \n",
    "1. Assign 1 to a\n",
    "\n",
    "    - 1a. Set a->PyObject_HEAD->typecode to integer\n",
    "    - 1b. Set a->val = 1\n",
    "    \n",
    "\n",
    "2. Assign 2 to b\n",
    "\n",
    "    - 2a. Set b->PyObject_HEAD->typecode to integer<br>\n",
    "    - 2b. Set b->val = 2\n",
    "    \n",
    "\n",
    "3. call binary_add(a, b)\n",
    "\n",
    "    - 3a. find typecode in a->PyObject_HEAD <br>\n",
    "    - 3b. a is an integer; value is a->val<br>\n",
    "    - 3c. find typecode in b->PyObject_HEAD<br>\n",
    "    - 3d. b is an integer; value is b->val<br>\n",
    "    - 3e. call binary_add<int, int>(a->val, b->val)<br>\n",
    "    - 3f. result of this is result, and is an integer.\n",
    "    \n",
    "\n",
    "4. Create a Python object c\n",
    "\n",
    "    - 4a. set c->PyObject_HEAD->typecode to integer\n",
    "    - 4b. set c->val to result"
   ]
  },
  {
   "cell_type": "markdown",
   "metadata": {},
   "source": [
    "## reason 2. Python is interpreted rather than compiled\n",
    "\n",
    "## reason 3. Python's object model can lead to inefficient memory access\n",
    "\n",
    "<img src=http://jakevdp.github.io/images/array_vs_list.png style=\"width:550px\"/>"
   ]
  },
  {
   "cell_type": "markdown",
   "metadata": {},
   "source": [
    "## Digging into Python Integers\n"
   ]
  },
  {
   "cell_type": "code",
   "execution_count": 1,
   "metadata": {
    "scrolled": false
   },
   "outputs": [
    {
     "name": "stdout",
     "output_type": "stream",
     "text": [
      "3.6.8\n"
     ]
    }
   ],
   "source": [
    "import sys\n",
    "print(sys.version[:5])"
   ]
  },
  {
   "cell_type": "code",
   "execution_count": 2,
   "metadata": {},
   "outputs": [
    {
     "data": {
      "text/plain": [
       "42"
      ]
     },
     "execution_count": 2,
     "metadata": {},
     "output_type": "execute_result"
    }
   ],
   "source": [
    "x = 42\n",
    "x"
   ]
  },
  {
   "cell_type": "code",
   "execution_count": 3,
   "metadata": {},
   "outputs": [],
   "source": [
    "import ctypes"
   ]
  },
  {
   "cell_type": "markdown",
   "metadata": {},
   "source": [
    " \n",
    "https://hg.python.org/cpython/file/3.4/Include/object.h#l105"
   ]
  },
  {
   "cell_type": "markdown",
   "metadata": {},
   "source": [
    "```c\n",
    "struct _longobject{\n",
    "    long ob_refcnt;\n",
    "    PyTypeObject *ob_type;\n",
    "    size_t ob_size;\n",
    "    long ob_digit[1];\n",
    "};```"
   ]
  },
  {
   "cell_type": "code",
   "execution_count": 1,
   "metadata": {},
   "outputs": [
    {
     "ename": "NameError",
     "evalue": "name 'ctypes' is not defined",
     "output_type": "error",
     "traceback": [
      "\u001b[0;31m---------------------------------------------------------------------------\u001b[0m",
      "\u001b[0;31mNameError\u001b[0m                                 Traceback (most recent call last)",
      "\u001b[0;32m<ipython-input-1-f2fcdde6a949>\u001b[0m in \u001b[0;36m<module>\u001b[0;34m\u001b[0m\n\u001b[0;32m----> 1\u001b[0;31m \u001b[0;32mclass\u001b[0m \u001b[0mIntStruct\u001b[0m\u001b[0;34m(\u001b[0m\u001b[0mctypes\u001b[0m\u001b[0;34m.\u001b[0m\u001b[0mStructure\u001b[0m\u001b[0;34m)\u001b[0m\u001b[0;34m:\u001b[0m\u001b[0;34m\u001b[0m\u001b[0;34m\u001b[0m\u001b[0m\n\u001b[0m\u001b[1;32m      2\u001b[0m     _fields_ = [(\"ob_type\", ctypes.c_void_p),\n\u001b[1;32m      3\u001b[0m                 \u001b[0;34m(\u001b[0m\u001b[0;34m\"ob_ref\"\u001b[0m\u001b[0;34m,\u001b[0m \u001b[0mctypes\u001b[0m\u001b[0;34m.\u001b[0m\u001b[0mc_long\u001b[0m\u001b[0;34m)\u001b[0m\u001b[0;34m,\u001b[0m\u001b[0;34m\u001b[0m\u001b[0;34m\u001b[0m\u001b[0m\n\u001b[1;32m      4\u001b[0m                 \u001b[0;34m(\u001b[0m\u001b[0;34m\"ob_size\"\u001b[0m\u001b[0;34m,\u001b[0m \u001b[0mctypes\u001b[0m\u001b[0;34m.\u001b[0m\u001b[0mc_ulong\u001b[0m\u001b[0;34m)\u001b[0m\u001b[0;34m,\u001b[0m\u001b[0;34m\u001b[0m\u001b[0;34m\u001b[0m\u001b[0m\n\u001b[1;32m      5\u001b[0m                 \u001b[0;34m(\u001b[0m\u001b[0;34m\"ob_digit\"\u001b[0m\u001b[0;34m,\u001b[0m \u001b[0mctypes\u001b[0m\u001b[0;34m.\u001b[0m\u001b[0mc_long\u001b[0m\u001b[0;34m)\u001b[0m\u001b[0;34m,\u001b[0m\u001b[0;34m\u001b[0m\u001b[0;34m\u001b[0m\u001b[0m\n",
      "\u001b[0;31mNameError\u001b[0m: name 'ctypes' is not defined"
     ]
    }
   ],
   "source": [
    "class IntStruct(ctypes.Structure):\n",
    "    _fields_ = [(\"ob_ref\", ctypes.c_long),\n",
    "                (\"ob_type\", ctypes.c_void_p),\n",
    "                (\"ob_size\", ctypes.c_ulong),\n",
    "                (\"ob_digit\", ctypes.c_long),\n",
    "               ]\n",
    "    \n",
    "    def __repr__(self):\n",
    "        return (\"IntStruct(ob_digit={self.ob_digit}, refcount={self.ob_ref})\").format(self=self)"
   ]
  },
  {
   "cell_type": "code",
   "execution_count": null,
   "metadata": {},
   "outputs": [],
   "source": [
    "num = 42\n",
    "IntStruct.from_address(id(42))"
   ]
  },
  {
   "cell_type": "code",
   "execution_count": null,
   "metadata": {},
   "outputs": [],
   "source": [
    "id(42)"
   ]
  },
  {
   "cell_type": "code",
   "execution_count": null,
   "metadata": {},
   "outputs": [],
   "source": [
    "Istruct = IntStruct.from_address(id(42))\n",
    "Istruct.ob_type, Istruct.ob_size, Istruct.ob_digit"
   ]
  },
  {
   "cell_type": "code",
   "execution_count": null,
   "metadata": {},
   "outputs": [],
   "source": [
    "type(Istruct)"
   ]
  },
  {
   "cell_type": "code",
   "execution_count": null,
   "metadata": {},
   "outputs": [],
   "source": [
    "%matplotlib inline\n",
    "import matplotlib.pyplot as plt\n",
    "import sys\n",
    "plt.loglog(range(1000), [sys.getrefcount(i) for i in range(1000)])\n",
    "plt.xlabel('integer value')\n",
    "plt.ylabel('reference count')"
   ]
  },
  {
   "cell_type": "markdown",
   "metadata": {},
   "source": [
    "## Digging into Python Lists"
   ]
  },
  {
   "cell_type": "markdown",
   "metadata": {},
   "source": [
    "Let's apply the above ideas to a more complicated type: Python lists. \n",
    "\n",
    "Analogously to integers, we find the definition of the list object itself in [Include/listobject.h](https://hg.python.org/cpython/file/3.4/Include/listobject.h#l23)"
   ]
  },
  {
   "cell_type": "markdown",
   "metadata": {},
   "source": [
    "```c\n",
    "typedef struct{\n",
    "    long ob_refcnt;\n",
    "    PyTypeObject *ob_type;\n",
    "    Pyssize_t ob_size;\n",
    "    PyObject **ob_item;\n",
    "    long allocated;    \n",
    "}PyListObject;\n",
    "```"
   ]
  },
  {
   "cell_type": "code",
   "execution_count": null,
   "metadata": {},
   "outputs": [],
   "source": [
    "class ListStruct(ctypes.Structure):\n",
    "    _fields_ = [(\"ob_refcnt\", ctypes.c_long),\n",
    "                (\"ob_type\", ctypes.c_void_p),\n",
    "                (\"ob_size\", ctypes.c_ulong), \n",
    "                (\"ob_item\", ctypes.c_long),# pyObject** pointer cast to long\n",
    "                (\"ob_digit\", ctypes.c_long),\n",
    "               ]\n",
    "    \n",
    "    def __repr__(self):\n",
    "        return (\"ListStruct(len={self.ob_size}, refcount={self.ob_refcnt})\").format(self=self)"
   ]
  },
  {
   "cell_type": "code",
   "execution_count": null,
   "metadata": {},
   "outputs": [],
   "source": [
    "L = [1,2,3,4,5]\n",
    "ListStruct.from_address(id(L))"
   ]
  },
  {
   "cell_type": "code",
   "execution_count": null,
   "metadata": {},
   "outputs": [],
   "source": [
    "tup = [L, L]\n",
    "ListStruct.from_address(id(L))"
   ]
  },
  {
   "cell_type": "code",
   "execution_count": null,
   "metadata": {},
   "outputs": [],
   "source": [
    "del L[4]"
   ]
  },
  {
   "cell_type": "code",
   "execution_count": null,
   "metadata": {},
   "outputs": [],
   "source": [
    "listStruct = ListStruct.from_address(id(L))\n",
    "listStruct"
   ]
  },
  {
   "cell_type": "code",
   "execution_count": null,
   "metadata": {},
   "outputs": [],
   "source": [
    "tup[1]"
   ]
  },
  {
   "cell_type": "code",
   "execution_count": null,
   "metadata": {},
   "outputs": [],
   "source": [
    "# get a raw pointer to our list\n",
    "Lstruct = ListStruct.from_address(id(L))\n",
    "\n",
    "# create a type which is an array of integer pointers the same length as L\n",
    "PtrArray = Lstruct.ob_size * ctypes.POINTER(IntStruct)\n",
    "\n",
    "# instantiate this type using the ob_item pointer\n",
    "L_values = PtrArray.from_address(Lstruct.ob_item)"
   ]
  },
  {
   "cell_type": "markdown",
   "metadata": {},
   "source": [
    "## Numpy List"
   ]
  },
  {
   "cell_type": "markdown",
   "metadata": {},
   "source": [
    "https://github.com/numpy/numpy/blob/maintenance/1.8.x/numpy/core/include/numpy/ndarraytypes.h#L646"
   ]
  },
  {
   "cell_type": "code",
   "execution_count": null,
   "metadata": {},
   "outputs": [],
   "source": [
    "import numpy as np\n",
    "np.__version__"
   ]
  },
  {
   "cell_type": "code",
   "execution_count": null,
   "metadata": {},
   "outputs": [],
   "source": [
    "class NumpyStruct(ctypes.Structure):\n",
    "    _fields_ = [(\"ob_refcnt\", ctypes.c_long),\n",
    "                (\"ob_type\", ctypes.c_void_p),\n",
    "                (\"ob_data\", ctypes.c_long), # char* pointer cas to long\n",
    "                (\"ob_ndim\", ctypes.c_int),\n",
    "                (\"ob_shape\", ctypes.c_voidp),\n",
    "                (\"ob_strides\", ctypes.c_voidp),\n",
    "               ]\n",
    "    @property\n",
    "    def shape(self):\n",
    "        return tuple((self.ob_ndim*ctypes.c_int64).from_address(self.ob_shape))\n",
    "    \n",
    "    @property\n",
    "    def strides(self):\n",
    "        return tuple((self.ob_ndim*ctypes.c_int64).from_address(self.ob_strides))\n",
    "    \n",
    "    \n",
    "    def __repr__(self):\n",
    "        return (\"NumpyStruct(shape={self.shape}, refcount={self.ob_refcnt})\").format(self=self)"
   ]
  },
  {
   "cell_type": "code",
   "execution_count": null,
   "metadata": {},
   "outputs": [],
   "source": [
    "x = np.random.random((10, 20))\n",
    "xstruct = NumpyStruct.from_address(id(x))\n",
    "xstruct"
   ]
  },
  {
   "cell_type": "code",
   "execution_count": null,
   "metadata": {},
   "outputs": [],
   "source": [
    "L = [x,x,x]  # add three more references to x\n",
    "xstruct"
   ]
  },
  {
   "cell_type": "code",
   "execution_count": null,
   "metadata": {},
   "outputs": [],
   "source": [
    "x = np.arange(10)\n",
    "xstruct = NumpyStruct.from_address(id(x))\n",
    "size = np.prod(xstruct.shape)\n",
    "\n",
    "# assume an array of integers\n",
    "arraytype = size * ctypes.c_long\n",
    "data = arraytype.from_address(xstruct.ob_data)\n",
    "\n",
    "[d for d in data]"
   ]
  },
  {
   "cell_type": "code",
   "execution_count": null,
   "metadata": {},
   "outputs": [],
   "source": [
    "[id(d) for d in data]"
   ]
  },
  {
   "cell_type": "markdown",
   "metadata": {},
   "source": [
    "and then, what is Data model? "
   ]
  },
  {
   "cell_type": "markdown",
   "metadata": {},
   "source": [
    "https://www.slideshare.net/dahlmoon/numpy-20160330\n",
    "    \n",
    "data model 이란 python 이 제공하는 하나의 framwork 로 sqeunce, iteration 등의 객체를 말한다. "
   ]
  },
  {
   "cell_type": "code",
   "execution_count": 26,
   "metadata": {},
   "outputs": [
    {
     "data": {
      "text/plain": [
       "type"
      ]
     },
     "execution_count": 26,
     "metadata": {},
     "output_type": "execute_result"
    }
   ],
   "source": [
    "type(object)"
   ]
  },
  {
   "cell_type": "markdown",
   "metadata": {},
   "source": [
    "VISUALIZE CODE\n",
    "\n",
    "http://www.pythontutor.com/visualize.html\n",
    "\n",
    "http://pythontutor.com/"
   ]
  },
  {
   "cell_type": "code",
   "execution_count": null,
   "metadata": {},
   "outputs": [],
   "source": []
  }
 ],
 "metadata": {
  "kernelspec": {
   "display_name": "Python 3",
   "language": "python",
   "name": "python3"
  },
  "language_info": {
   "codemirror_mode": {
    "name": "ipython",
    "version": 3
   },
   "file_extension": ".py",
   "mimetype": "text/x-python",
   "name": "python",
   "nbconvert_exporter": "python",
   "pygments_lexer": "ipython3",
   "version": "3.6.9"
  }
 },
 "nbformat": 4,
 "nbformat_minor": 2
}
