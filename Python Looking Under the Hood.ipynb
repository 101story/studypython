{
 "cells": [
  {
   "cell_type": "markdown",
   "metadata": {},
   "source": [
    "today topic is related with python.\n",
    "\n",
    "it's totally my pure curiosity as learning new computer languge. \n",
    "\n",
    "It might not help to you guys and i'm sure you don't need to know during developing \n",
    "\n",
    "i would like to start why i choose this topic.\n",
    "\n",
    "first, i wanna share our studying with fluent python book\n",
    "\n",
    "fluent python\n",
    "2019년 9월 ~ 2020년 1월 (one day a week, totally 5 months or about 20 days) \n",
    "the book has 21 chapter with 600 pages (without appendix and table) totally 766\n",
    "\n",
    "schedule table devied by pages (always flexable and put many days off) \n",
    "https://docs.google.com/spreadsheets/d/1y-K7Jj2iSz_Vje894wbIDdy3Q3DwsYYuJPZJpjqOWCw/edit#gid=0\n",
    "\n",
    "\n",
    "Data Model was the first chapter but i couldn't get it. so I kept searching on and on. and i found the metadata concept. \n",
    "and finally, i kept some blogs explaining what happens inside python and i decided to read them if i got bored while free time.\n",
    "\n",
    "my past 5 months never get boring so i didn't have the tiem to read them even during seolnal too. \n",
    "finally i started to read them last week after.\n",
    "\n",
    "and i would like to share one of them with you.\n",
    "\n",
    "http://jakevdp.github.io/blog/2014/05/09/why-python-is-slow/\n"
   ]
  },
  {
   "cell_type": "markdown",
   "metadata": {},
   "source": [
    "what is cpython \n",
    "\n",
    "https://stackoverflow.com/questions/17130975/python-vs-cpython\n",
    "\n",
    "CPython happens to be implemented in C. That is just an implementation detail, really. CPython compiles your Python code into bytecode (transparently) and interprets that bytecode in a evaluation loop. So CPython does not translate your Python code to C by itself. \n",
    "\n",
    "Separately we have **a programming language implementation** which in most cases, is the actual interpreter or compiler.\n",
    "\n",
    "1. **Python**: It is a language, it only states/describes how to convey/express yourself to the interpreter (the program which accepts your python code).\n",
    "2. **Implementation**: It is all about how the interpreter was written, specifically, in what language and what it ends up doing.\n",
    "3. **Bytecode**: It is the code that is processed by a program, usually referred to as a virtual machine, rather than by the \"real\" computer machine, the hardware processor."
   ]
  },
  {
   "cell_type": "markdown",
   "metadata": {},
   "source": [
    "<img src=https://i.imgur.com/PJME67T.png>\n",
    "\n",
    "source : https://indianpythonista.wordpress.com/2018/01/04/how-python-runs/"
   ]
  },
  {
   "cell_type": "code",
   "execution_count": 3,
   "metadata": {},
   "outputs": [
    {
     "name": "stdout",
     "output_type": "stream",
     "text": [
      "3.6.8\n"
     ]
    }
   ],
   "source": [
    "import sys\n",
    "print(sys.version[:5])"
   ]
  },
  {
   "cell_type": "code",
   "execution_count": 5,
   "metadata": {},
   "outputs": [
    {
     "data": {
      "text/plain": [
       "42"
      ]
     },
     "execution_count": 5,
     "metadata": {},
     "output_type": "execute_result"
    }
   ],
   "source": [
    "x = 42\n",
    "x"
   ]
  },
  {
   "cell_type": "markdown",
   "metadata": {},
   "source": [
    "## Integer Type"
   ]
  },
  {
   "cell_type": "code",
   "execution_count": 7,
   "metadata": {},
   "outputs": [],
   "source": [
    "import ctypes"
   ]
  },
  {
   "cell_type": "markdown",
   "metadata": {},
   "source": [
    "```c\n",
    "struct _longobject{\n",
    "    long ob_refcnt;\n",
    "    PyTypeObject *ob_type;\n",
    "    size_t ob_size;\n",
    "    long ob_digit[1];\n",
    "};```"
   ]
  },
  {
   "cell_type": "code",
   "execution_count": 40,
   "metadata": {},
   "outputs": [],
   "source": [
    "class IntStruct(ctypes.Structure):\n",
    "    _fields_ = [(\"ob_ref\", ctypes.c_long),\n",
    "                (\"ob_type\", ctypes.c_void_p),\n",
    "                (\"ob_size\", ctypes.c_ulong),\n",
    "                (\"ob_digit\", ctypes.c_long),\n",
    "               ]\n",
    "    \n",
    "    def __repr__(self):\n",
    "        return (\"IntStruct(ob_digit={self.ob_digit}, refcount={self.ob_ref})\").format(self=self)"
   ]
  },
  {
   "cell_type": "code",
   "execution_count": 41,
   "metadata": {},
   "outputs": [
    {
     "data": {
      "text/plain": [
       "IntStruct(ob_digit=42, refcount=353)"
      ]
     },
     "execution_count": 41,
     "metadata": {},
     "output_type": "execute_result"
    }
   ],
   "source": [
    "num = 42\n",
    "IntStruct.from_address(id(42))"
   ]
  },
  {
   "cell_type": "code",
   "execution_count": 42,
   "metadata": {},
   "outputs": [
    {
     "data": {
      "text/plain": [
       "10915808"
      ]
     },
     "execution_count": 42,
     "metadata": {},
     "output_type": "execute_result"
    }
   ],
   "source": [
    "id(42)"
   ]
  },
  {
   "cell_type": "markdown",
   "metadata": {},
   "source": [
    "https://docs.python.org/2/library/ctypes.html#ctypes._CData.from_address\n",
    "\n",
    "**from_address(address)**\n",
    "> This method returns a ctypes type instance using the memory specified by address which must be an integer."
   ]
  },
  {
   "cell_type": "code",
   "execution_count": 43,
   "metadata": {},
   "outputs": [
    {
     "data": {
      "text/plain": [
       "(10277248, 1, 42)"
      ]
     },
     "execution_count": 43,
     "metadata": {},
     "output_type": "execute_result"
    }
   ],
   "source": [
    "Istruct = IntStruct.from_address(id(42))\n",
    "Istruct.ob_type, Istruct.ob_size, Istruct.ob_digit"
   ]
  },
  {
   "cell_type": "code",
   "execution_count": 39,
   "metadata": {},
   "outputs": [
    {
     "data": {
      "text/plain": [
       "__main__.IntStruct"
      ]
     },
     "execution_count": 39,
     "metadata": {},
     "output_type": "execute_result"
    }
   ],
   "source": [
    "type(Istruct)"
   ]
  },
  {
   "cell_type": "code",
   "execution_count": 12,
   "metadata": {},
   "outputs": [
    {
     "data": {
      "text/plain": [
       "Text(0, 0.5, 'reference count')"
      ]
     },
     "execution_count": 12,
     "metadata": {},
     "output_type": "execute_result"
    },
    {
     "data": {
      "image/png": "[encoded data removed]",
      "text/plain": [
       "<Figure size 432x288 with 1 Axes>"
      ]
     },
     "metadata": {
      "needs_background": "light"
     },
     "output_type": "display_data"
    }
   ],
   "source": [
    "%matplotlib inline\n",
    "import matplotlib.pyplot as plt\n",
    "import sys\n",
    "plt.loglog(range(1000), [sys.getrefcount(i) for i in range(1000)])\n",
    "plt.xlabel('integer value')\n",
    "plt.ylabel('reference count')"
   ]
  },
  {
   "cell_type": "markdown",
   "metadata": {},
   "source": [
    "## List Type"
   ]
  },
  {
   "cell_type": "markdown",
   "metadata": {},
   "source": [
    "```c\n",
    "typedef struct{\n",
    "    long ob_refcnt;\n",
    "    PyTypeObject *ob_type;\n",
    "    Pyssize_t ob_size;\n",
    "    PyObject **ob_item;\n",
    "    long allocated;    \n",
    "}PyListObject;\n",
    "```"
   ]
  },
  {
   "cell_type": "code",
   "execution_count": 16,
   "metadata": {},
   "outputs": [],
   "source": [
    "class ListStruct(ctypes.Structure):\n",
    "    _fields_ = [(\"ob_refcnt\", ctypes.c_long),\n",
    "                (\"ob_type\", ctypes.c_void_p),\n",
    "                (\"ob_size\", ctypes.c_ulong), \n",
    "                (\"ob_item\", ctypes.c_long),# pyObject** pointer cast to long\n",
    "                (\"ob_digit\", ctypes.c_long),\n",
    "               ]\n",
    "    \n",
    "    def __repr__(self):\n",
    "        return (\"ListStruct(len={self.ob_size}, refcount={self.ob_refcnt})\").format(self=self)"
   ]
  },
  {
   "cell_type": "code",
   "execution_count": 17,
   "metadata": {},
   "outputs": [
    {
     "data": {
      "text/plain": [
       "ListStruct(len=5, refcount=1)"
      ]
     },
     "execution_count": 17,
     "metadata": {},
     "output_type": "execute_result"
    }
   ],
   "source": [
    "L = [1,2,3,4,5]\n",
    "ListStruct.from_address(id(L))"
   ]
  },
  {
   "cell_type": "code",
   "execution_count": 18,
   "metadata": {},
   "outputs": [
    {
     "data": {
      "text/plain": [
       "ListStruct(len=5, refcount=3)"
      ]
     },
     "execution_count": 18,
     "metadata": {},
     "output_type": "execute_result"
    }
   ],
   "source": [
    "tup = [L, L]\n",
    "ListStruct.from_address(id(L))"
   ]
  },
  {
   "cell_type": "code",
   "execution_count": 19,
   "metadata": {},
   "outputs": [],
   "source": [
    "del L[4]"
   ]
  },
  {
   "cell_type": "code",
   "execution_count": 20,
   "metadata": {},
   "outputs": [
    {
     "data": {
      "text/plain": [
       "[1, 2, 3, 4]"
      ]
     },
     "execution_count": 20,
     "metadata": {},
     "output_type": "execute_result"
    }
   ],
   "source": [
    "L"
   ]
  },
  {
   "cell_type": "code",
   "execution_count": 46,
   "metadata": {},
   "outputs": [
    {
     "data": {
      "text/plain": [
       "(4, 140053468754968, 5)"
      ]
     },
     "execution_count": 46,
     "metadata": {},
     "output_type": "execute_result"
    }
   ],
   "source": [
    "listStruct = ListStruct.from_address(id(L))\n",
    "listStruct.ob_size, listStruct.ob_item, listStruct.ob_digit"
   ]
  },
  {
   "cell_type": "code",
   "execution_count": 47,
   "metadata": {},
   "outputs": [
    {
     "data": {
      "text/plain": [
       "[1, 2, 3, 4]"
      ]
     },
     "execution_count": 47,
     "metadata": {},
     "output_type": "execute_result"
    }
   ],
   "source": [
    "tup[1]"
   ]
  },
  {
   "cell_type": "code",
   "execution_count": 48,
   "metadata": {},
   "outputs": [
    {
     "data": {
      "text/plain": [
       "140053469547208"
      ]
     },
     "execution_count": 48,
     "metadata": {},
     "output_type": "execute_result"
    }
   ],
   "source": [
    "id(L)"
   ]
  },
  {
   "cell_type": "markdown",
   "metadata": {},
   "source": [
    "## Numpy List"
   ]
  },
  {
   "cell_type": "code",
   "execution_count": 24,
   "metadata": {},
   "outputs": [],
   "source": [
    "class NumpyStruct(ctypes.Structure):\n",
    "    _fields_ = [(\"ob_refcnt\", ctypes.c_long),\n",
    "                (\"ob_type\", ctypes.c_void_p),\n",
    "                (\"ob_data\", ctypes.c_long), # char* pointer cas to long\n",
    "                (\"ob_ndim\", ctypes.c_int),\n",
    "                (\"ob_shape\", ctypes.c_voidp),\n",
    "                (\"ob_strides\", ctypes.c_voidp),\n",
    "               ]\n",
    "    @property\n",
    "    def shape(self):\n",
    "        return tuple((self.ob_ndim*ctypes.c_int64).from_address(self.ob_shape))\n",
    "    \n",
    "    @property\n",
    "    def strides(self):\n",
    "        return tuple((self.ob_ndim*ctypes.c_int64).from_address(self.ob_strides))\n",
    "    \n",
    "    \n",
    "    def __repr__(self):\n",
    "        return (\"NumpyStruct(shape={self.shape}, refcount={self.ob_refcnt})\").format(self=self)"
   ]
  },
  {
   "cell_type": "code",
   "execution_count": 26,
   "metadata": {},
   "outputs": [
    {
     "data": {
      "text/plain": [
       "__main__.c_long_Array_1"
      ]
     },
     "execution_count": 26,
     "metadata": {},
     "output_type": "execute_result"
    }
   ],
   "source": [
    "ctypes.c_int64"
   ]
  },
  {
   "cell_type": "code",
   "execution_count": 29,
   "metadata": {},
   "outputs": [
    {
     "data": {
      "text/plain": [
       "ctypes.c_int"
      ]
     },
     "execution_count": 29,
     "metadata": {},
     "output_type": "execute_result"
    }
   ],
   "source": [
    "ctypes.c_int"
   ]
  },
  {
   "cell_type": "code",
   "execution_count": null,
   "metadata": {},
   "outputs": [],
   "source": []
  }
 ],
 "metadata": {
  "kernelspec": {
   "display_name": "Python 3",
   "language": "python",
   "name": "python3"
  },
  "language_info": {
   "codemirror_mode": {
    "name": "ipython",
    "version": 3
   },
   "file_extension": ".py",
   "mimetype": "text/x-python",
   "name": "python",
   "nbconvert_exporter": "python",
   "pygments_lexer": "ipython3",
   "version": "3.6.9"
  }
 },
 "nbformat": 4,
 "nbformat_minor": 2
}
