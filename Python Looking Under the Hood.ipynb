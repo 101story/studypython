{
 "cells": [
  {
   "cell_type": "markdown",
   "metadata": {},
   "source": [
    "# Python Looking Under the Hood \n",
    "**Julie**\n",
    "\n",
    "## Brief Summary of Fluent python Study \n",
    "\n",
    "<img src=\"https://img.ridicdn.net/cover/2409002736/xxlarge\" style=\"width:80px; height:100px;\" align=\"left\"/>\n",
    "\n",
    "\n",
    "      - From Sep. 2019 To Jan 2020 (5 months) \n",
    "      - a day a weekday\n",
    "      - 21 Chapters (almost 600 pages) \n"
   ]
  },
  {
   "cell_type": "markdown",
   "metadata": {},
   "source": [
    "- schedule table \n",
    "\n",
    "<img src=\"fluentpyschedule.png\" style=\"width:400px;\" >\n",
    "\n",
    "\n",
    "- We summarized the study in our each ways.\n"
   ]
  },
  {
   "cell_type": "markdown",
   "metadata": {},
   "source": [
    "### Part1 Prologue\n",
    "#### CH1.The Python Data Model\n",
    "\n",
    "* 데이터 모델 : 일종의 프레임워크, 언어 자체의 구성단위에 대한 인터페이스를 공식적으로 정의한다. \n",
    "\n",
    "\n",
    "* Difference between __str__ and __repr__?\n",
    "\n",
    "https://stackoverflow.com/questions/1436703/difference-between-str-and-repr\n",
    "\n",
    "* Data Model reference \n",
    "\n",
    "https://docs.python.org/3/reference/datamodel.html\n",
    "\n",
    "\n",
    "* python data model 이해하기\n",
    "\n",
    "https://www.slideshare.net/dahlmoon/numpy-20160330\n",
    "\n",
    "* 파이썬의 메타클래스란 무엇인가?\n",
    "\n",
    "https://code.tutsplus.com/ko/tutorials/quick-tip-what-is-a-metaclass-in-python--cms-26016\n",
    "\n",
    "https://blog.ionelmc.ro/2015/02/09/understanding-python-metaclasses/\n",
    "\n",
    "* why python is slow\n",
    "\n",
    "http://jakevdp.github.io/blog/2014/05/09/why-python-is-slow/\n",
    "\n"
   ]
  },
  {
   "cell_type": "markdown",
   "metadata": {},
   "source": [
    "# Why Python is Slow: Looking Under the Hood\n",
    "\n",
    "http://jakevdp.github.io/blog/2014/05/09/why-python-is-slow/"
   ]
  },
  {
   "cell_type": "markdown",
   "metadata": {},
   "source": [
    "### what is cpython\n",
    "https://stackoverflow.com/questions/17130975/python-vs-cpython\n",
    "\n",
    "<img src=https://i.imgur.com/PJME67T.png style=\"width:550px\">\n",
    "\n",
    "source : https://indianpythonista.wordpress.com/2018/01/04/how-python-runs/"
   ]
  },
  {
   "cell_type": "code",
   "execution_count": 1,
   "metadata": {},
   "outputs": [
    {
     "name": "stdout",
     "output_type": "stream",
     "text": [
      "  1           0 LOAD_NAME                0 (a)\n",
      "              2 LOAD_NAME                1 (b)\n",
      "              4 BINARY_ADD\n",
      "              6 STORE_NAME               2 (c)\n",
      "              8 LOAD_CONST               0 (None)\n",
      "             10 RETURN_VALUE\n"
     ]
    }
   ],
   "source": [
    "import dis\n",
    "dis.dis('c = a + b')"
   ]
  },
  {
   "cell_type": "markdown",
   "metadata": {},
   "source": [
    "## Why Python is Slow\n",
    "\n",
    "### reason 1. Python is Dynamically Typed rather than Statically Typed\n"
   ]
  },
  {
   "cell_type": "markdown",
   "metadata": {},
   "source": [
    "```c\n",
    "/* C code */\n",
    "int a = 1;\n",
    "int b = 2;\n",
    "int c = a + b;\n",
    "```\n",
    "\n",
    "```python\n",
    "# python code\n",
    "a = 1\n",
    "b = 2\n",
    "c = a + b\n",
    "```"
   ]
  },
  {
   "cell_type": "markdown",
   "metadata": {},
   "source": [
    "#### C Code \n",
    "\n",
    "1. Assign <int> 1 to a\n",
    "2. Assign <int> 2 to b\n",
    "3. call binary_add<int, int>(a, b)\n",
    "4. Assign the result to c\n",
    "    \n",
    "#### Python Code    \n",
    "    \n",
    "1. Assign 1 to a\n",
    "\n",
    "    - 1a. Set a->PyObject_HEAD->typecode to integer\n",
    "    - 1b. Set a->val = 1\n",
    "    \n",
    "\n",
    "2. Assign 2 to b\n",
    "\n",
    "    - 2a. Set b->PyObject_HEAD->typecode to integer<br>\n",
    "    - 2b. Set b->val = 2\n",
    "    \n",
    "\n",
    "3. call binary_add(a, b)\n",
    "\n",
    "    - 3a. find typecode in a->PyObject_HEAD <br>\n",
    "    - 3b. a is an integer; value is a->val<br>\n",
    "    - 3c. find typecode in b->PyObject_HEAD<br>\n",
    "    - 3d. b is an integer; value is b->val<br>\n",
    "    - 3e. call binary_add<int, int>(a->val, b->val)<br>\n",
    "    - 3f. result of this is result, and is an integer.\n",
    "    \n",
    "\n",
    "4. Create a Python object c\n",
    "\n",
    "    - 4a. set c->PyObject_HEAD->typecode to integer\n",
    "    - 4b. set c->val to result"
   ]
  },
  {
   "cell_type": "markdown",
   "metadata": {},
   "source": [
    "## reason 2. Python is interpreted rather than compiled\n",
    "\n",
    "## reason 3. Python's object model can lead to inefficient memory access\n",
    "\n",
    "<img src=http://jakevdp.github.io/images/array_vs_list.png style=\"width:550px\"/>"
   ]
  },
  {
   "cell_type": "markdown",
   "metadata": {},
   "source": [
    "# Digging into Python\n",
    "\n",
    "##  Integers"
   ]
  },
  {
   "cell_type": "code",
   "execution_count": 2,
   "metadata": {
    "scrolled": false
   },
   "outputs": [
    {
     "name": "stdout",
     "output_type": "stream",
     "text": [
      "3.6.8\n"
     ]
    }
   ],
   "source": [
    "import sys\n",
    "print(sys.version[:5])"
   ]
  },
  {
   "cell_type": "code",
   "execution_count": 3,
   "metadata": {},
   "outputs": [
    {
     "data": {
      "text/plain": [
       "42"
      ]
     },
     "execution_count": 3,
     "metadata": {},
     "output_type": "execute_result"
    }
   ],
   "source": [
    "x = 42\n",
    "x"
   ]
  },
  {
   "cell_type": "code",
   "execution_count": 4,
   "metadata": {},
   "outputs": [],
   "source": [
    "import ctypes"
   ]
  },
  {
   "cell_type": "markdown",
   "metadata": {},
   "source": [
    " \n",
    "https://hg.python.org/cpython/file/3.4/Include/object.h#l105"
   ]
  },
  {
   "cell_type": "markdown",
   "metadata": {},
   "source": [
    "```c\n",
    "struct _longobject{\n",
    "    long ob_refcnt;\n",
    "    PyTypeObject *ob_type;\n",
    "    size_t ob_size;\n",
    "    long ob_digit[1];\n",
    "};```"
   ]
  },
  {
   "cell_type": "code",
   "execution_count": 47,
   "metadata": {},
   "outputs": [],
   "source": [
    "class IntStruct(ctypes.Structure):\n",
    "    _fields_ = [(\"ob_ref\", ctypes.c_long),\n",
    "                (\"ob_type\", ctypes.c_void_p),\n",
    "                (\"ob_size\", ctypes.c_ulong),\n",
    "                (\"ob_digit\", ctypes.c_long),\n",
    "               ]\n",
    "    \n",
    "    def __repr__(self):\n",
    "        return (\"IntStruct(ob_digit={self.ob_digit}, refcount={self.ob_ref})\").format(self=self)"
   ]
  },
  {
   "cell_type": "code",
   "execution_count": 48,
   "metadata": {},
   "outputs": [
    {
     "data": {
      "text/plain": [
       "IntStruct(ob_digit=42, refcount=40)"
      ]
     },
     "execution_count": 48,
     "metadata": {},
     "output_type": "execute_result"
    }
   ],
   "source": [
    "num = 42\n",
    "IntStruct.from_address(id(42))"
   ]
  },
  {
   "cell_type": "code",
   "execution_count": 49,
   "metadata": {},
   "outputs": [
    {
     "data": {
      "text/plain": [
       "10915808"
      ]
     },
     "execution_count": 49,
     "metadata": {},
     "output_type": "execute_result"
    }
   ],
   "source": [
    "id(42)"
   ]
  },
  {
   "cell_type": "code",
   "execution_count": 50,
   "metadata": {},
   "outputs": [
    {
     "data": {
      "text/plain": [
       "(10277248, 1, 42)"
      ]
     },
     "execution_count": 50,
     "metadata": {},
     "output_type": "execute_result"
    }
   ],
   "source": [
    "Istruct = IntStruct.from_address(id(42))\n",
    "Istruct.ob_type, Istruct.ob_size, Istruct.ob_digit"
   ]
  },
  {
   "cell_type": "code",
   "execution_count": 51,
   "metadata": {},
   "outputs": [
    {
     "data": {
      "text/plain": [
       "Text(0, 0.5, 'reference count')"
      ]
     },
     "execution_count": 51,
     "metadata": {},
     "output_type": "execute_result"
    },
    {
     "data": {
      "image/png": "[encoded data removed]",
      "text/plain": [
       "<Figure size 432x288 with 1 Axes>"
      ]
     },
     "metadata": {
      "needs_background": "light"
     },
     "output_type": "display_data"
    }
   ],
   "source": [
    "%matplotlib inline\n",
    "import matplotlib.pyplot as plt\n",
    "import sys\n",
    "plt.loglog(range(1000), [sys.getrefcount(i) for i in range(1000)])\n",
    "plt.xlabel('integer value')\n",
    "plt.ylabel('reference count')"
   ]
  },
  {
   "cell_type": "markdown",
   "metadata": {},
   "source": [
    "## Lists"
   ]
  },
  {
   "cell_type": "markdown",
   "metadata": {},
   "source": [
    "Let's apply the above ideas to a more complicated type: Python lists. \n",
    "\n",
    "Analogously to integers, we find the definition of the list object itself in [Include/listobject.h](https://hg.python.org/cpython/file/3.4/Include/listobject.h#l23)"
   ]
  },
  {
   "cell_type": "markdown",
   "metadata": {},
   "source": [
    "```c\n",
    "typedef struct{\n",
    "    long ob_refcnt;\n",
    "    PyTypeObject *ob_type;\n",
    "    Pyssize_t ob_size;\n",
    "    PyObject **ob_item;\n",
    "    long allocated;    \n",
    "}PyListObject;\n",
    "```"
   ]
  },
  {
   "cell_type": "code",
   "execution_count": 52,
   "metadata": {},
   "outputs": [],
   "source": [
    "class ListStruct(ctypes.Structure):\n",
    "    _fields_ = [(\"ob_refcnt\", ctypes.c_long),\n",
    "                (\"ob_type\", ctypes.c_void_p),\n",
    "                (\"ob_size\", ctypes.c_ulong), \n",
    "                (\"ob_item\", ctypes.c_long),# pyObject** pointer cast to long\n",
    "                (\"ob_digit\", ctypes.c_long),\n",
    "               ]\n",
    "    \n",
    "    def __repr__(self):\n",
    "        return (\"ListStruct(len={self.ob_size}, refcount={self.ob_refcnt} items={self.ob_item})\").format(self=self)"
   ]
  },
  {
   "cell_type": "code",
   "execution_count": 53,
   "metadata": {},
   "outputs": [
    {
     "data": {
      "text/plain": [
       "ListStruct(len=5, refcount=1 items=139668772431552)"
      ]
     },
     "execution_count": 53,
     "metadata": {},
     "output_type": "execute_result"
    }
   ],
   "source": [
    "L = [1,2,3,4,5]\n",
    "ListStruct.from_address(id(L))"
   ]
  },
  {
   "cell_type": "code",
   "execution_count": 54,
   "metadata": {},
   "outputs": [
    {
     "data": {
      "text/plain": [
       "ListStruct(len=5, refcount=3 items=139668772431552)"
      ]
     },
     "execution_count": 54,
     "metadata": {},
     "output_type": "execute_result"
    }
   ],
   "source": [
    "tup = [L, L]\n",
    "ListStruct.from_address(id(L))"
   ]
  },
  {
   "cell_type": "code",
   "execution_count": 42,
   "metadata": {},
   "outputs": [],
   "source": [
    "del L[4]"
   ]
  },
  {
   "cell_type": "code",
   "execution_count": 43,
   "metadata": {},
   "outputs": [
    {
     "data": {
      "text/plain": [
       "ListStruct(len=4, refcount=3 items=139668773400784)"
      ]
     },
     "execution_count": 43,
     "metadata": {},
     "output_type": "execute_result"
    }
   ],
   "source": [
    "listStruct = ListStruct.from_address(id(L))\n",
    "listStruct"
   ]
  },
  {
   "cell_type": "code",
   "execution_count": 44,
   "metadata": {},
   "outputs": [
    {
     "data": {
      "text/plain": [
       "[1, 2, 3, 4]"
      ]
     },
     "execution_count": 44,
     "metadata": {},
     "output_type": "execute_result"
    }
   ],
   "source": [
    "tup[1]"
   ]
  },
  {
   "cell_type": "code",
   "execution_count": 45,
   "metadata": {},
   "outputs": [],
   "source": [
    "# get a raw pointer to our list\n",
    "Lstruct = ListStruct.from_address(id(L))\n",
    "\n",
    "# create a type which is an array of integer pointers the same length as L\n",
    "PtrArray = Lstruct.ob_size * ctypes.POINTER(IntStruct)\n",
    "\n",
    "# instantiate this type using the ob_item pointer\n",
    "L_values = PtrArray.from_address(Lstruct.ob_item)"
   ]
  },
  {
   "cell_type": "code",
   "execution_count": 46,
   "metadata": {},
   "outputs": [
    {
     "data": {
      "text/plain": [
       "[IntStruct(ob_digit=1, refcount=9578, type=10277248, size=1),\n",
       " IntStruct(ob_digit=2, refcount=5626, type=10277248, size=1),\n",
       " IntStruct(ob_digit=3, refcount=1625, type=10277248, size=1),\n",
       " IntStruct(ob_digit=4, refcount=903, type=10277248, size=1)]"
      ]
     },
     "execution_count": 46,
     "metadata": {},
     "output_type": "execute_result"
    }
   ],
   "source": [
    "[ptr[0] for ptr in L_values]  # ptr[0] dereferences the pointer"
   ]
  },
  {
   "cell_type": "markdown",
   "metadata": {},
   "source": [
    "VISUALIZE CODE\n",
    "\n",
    "http://pythontutor.com/\n",
    "\n",
    "http://www.pythontutor.com/visualize.html\n"
   ]
  },
  {
   "cell_type": "markdown",
   "metadata": {},
   "source": [
    "# Python Object and Type \n",
    "\n",
    "https://stackoverflow.com/questions/22921093/query-on-object-class-type-class-in-python"
   ]
  },
  {
   "cell_type": "markdown",
   "metadata": {},
   "source": [
    "#### mlcore structure\n",
    "\n",
    "<img src=\"mlcore-object.png\">"
   ]
  },
  {
   "cell_type": "markdown",
   "metadata": {},
   "source": [
    "#### python structure\n",
    "\n",
    "<img src=\"https://i.stack.imgur.com/33Zt8.png\">"
   ]
  },
  {
   "cell_type": "code",
   "execution_count": 4,
   "metadata": {},
   "outputs": [
    {
     "name": "stdout",
     "output_type": "stream",
     "text": [
      "True\n",
      "<class 'type'>\n",
      "True\n"
     ]
    }
   ],
   "source": [
    "print(isinstance(type,object))\n",
    "print(type.__class__)\n",
    "print(isinstance(object,type))"
   ]
  },
  {
   "cell_type": "code",
   "execution_count": 7,
   "metadata": {},
   "outputs": [
    {
     "data": {
      "text/plain": [
       "True"
      ]
     },
     "execution_count": 7,
     "metadata": {},
     "output_type": "execute_result"
    }
   ],
   "source": [
    "def function1():\n",
    "    pass\n",
    "\n",
    "isinstance(function1, object)"
   ]
  },
  {
   "cell_type": "markdown",
   "metadata": {},
   "source": [
    "* Metaclass and DataModel \n",
    "https://www.slideshare.net/dahlmoon/numpy-20160330"
   ]
  },
  {
   "cell_type": "code",
   "execution_count": null,
   "metadata": {},
   "outputs": [],
   "source": []
  }
 ],
 "metadata": {
  "kernelspec": {
   "display_name": "Python 3",
   "language": "python",
   "name": "python3"
  },
  "language_info": {
   "codemirror_mode": {
    "name": "ipython",
    "version": 3
   },
   "file_extension": ".py",
   "mimetype": "text/x-python",
   "name": "python",
   "nbconvert_exporter": "python",
   "pygments_lexer": "ipython3",
   "version": "3.6.9"
  }
 },
 "nbformat": 4,
 "nbformat_minor": 2
}
